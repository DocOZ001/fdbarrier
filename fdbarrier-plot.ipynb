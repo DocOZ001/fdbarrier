{
 "cells": [
  {
   "cell_type": "code",
   "execution_count": 1,
   "metadata": {
    "collapsed": false
   },
   "outputs": [],
   "source": [
    "#!/usr/bin/env python3\n",
    "# Requires QuantLib-SWIG with modified options.i\n",
    "# Copyright Prof. Jayanth R. Varma (jrvarma@iimahd.ernet.in) and \n",
    "# Prof. Vineet Virmani (vineetv@iimahd.ernet.in)"
   ]
  },
  {
   "cell_type": "markdown",
   "metadata": {},
   "source": [
    "# Data for barrier option"
   ]
  },
  {
   "cell_type": "code",
   "execution_count": 2,
   "metadata": {
    "collapsed": false
   },
   "outputs": [
    {
     "name": "stdout",
     "output_type": "stream",
     "text": [
      "barrier = 80.0\n",
      "strike = 105\n",
      "optionType = Call\n",
      "divYield = 0.0\n",
      "underlying = 100\n",
      "rebate = 0.0\n",
      "maturity = 12\n",
      "barrierType = DownOut\n",
      "rf = 0.05\n",
      "sigma = 0.2\n"
     ]
    }
   ],
   "source": [
    "from QuantLib import *\n",
    "import matplotlib.pyplot as plt\n",
    "\n",
    "barrier, barrierType, optionType, rebate = (80.0, Barrier.DownOut, Option.Call, 0.0)\n",
    "underlying, strike, rf, sigma, maturity, divYield = (100, 105, 5e-2, 20e-2, 12, 0.0)\n",
    "## maturity is in days and must be an integer \n",
    "barrier_data = dict( (name,eval(name)) for name in [\n",
    "    'barrier', 'barrierType', 'optionType', 'rebate', 'underlying', 'strike', \n",
    "    'rf', 'sigma', 'maturity', 'divYield'] )\n",
    "barrier_data['barrierType'] = ['DownIn', 'UpIn', 'DownOut', 'UpOut'][barrier_data['barrierType']]\n",
    "barrier_data['optionType'] = ['Put', '???', 'Call'][barrier_data['optionType']+1]\n",
    "for k in barrier_data.keys():\n",
    "    print(\"{} = {}\".format(k, barrier_data[k]))"
   ]
  },
  {
   "cell_type": "markdown",
   "metadata": {},
   "source": [
    "# Compute price of barrier option using finite difference method for different grid sizes"
   ]
  },
  {
   "cell_type": "code",
   "execution_count": 3,
   "metadata": {
    "collapsed": false
   },
   "outputs": [],
   "source": [
    "Grids = (5, 10, 25, 50, 100, 1000, 5000)\n",
    "maxG = Grids[-1]\n",
    "\n",
    "today = Settings.instance().evaluationDate\n",
    "maturity_date = today + int(maturity)\n",
    "process = BlackScholesMertonProcess(\n",
    "    QuoteHandle(SimpleQuote(underlying)),\n",
    "    YieldTermStructureHandle(FlatForward(today, divYield, Thirty360())),\n",
    "    YieldTermStructureHandle(FlatForward(today, rf, Thirty360())),\n",
    "    BlackVolTermStructureHandle(BlackConstantVol(\n",
    "        today, NullCalendar(), sigma, Thirty360())))\n",
    "option = BarrierOption(barrierType, barrier, rebate, \n",
    "                       PlainVanillaPayoff(optionType, strike), \n",
    "                       EuropeanExercise(maturity_date))\n",
    "option.setPricingEngine(AnalyticBarrierEngine(process))\n",
    "trueValue = option.NPV()\n",
    "uErrors = []\n",
    "tErrors = []\n",
    "for Grid in Grids:\n",
    "    option.setPricingEngine(FdBlackScholesBarrierEngine (\n",
    "        process, maxG, Grid))\n",
    "    uErrors.append(abs(option.NPV()/trueValue-1))\n",
    "    option.setPricingEngine(FdBlackScholesBarrierEngine (\n",
    "        process, Grid, maxG))\n",
    "    tErrors.append(abs(option.NPV()/trueValue-1))"
   ]
  },
  {
   "cell_type": "markdown",
   "metadata": {},
   "source": [
    "# Print pricing errors of finite difference method for different grid sizes"
   ]
  },
  {
   "cell_type": "code",
   "execution_count": 4,
   "metadata": {
    "collapsed": false
   },
   "outputs": [
    {
     "name": "stdout",
     "output_type": "stream",
     "text": [
      "True (Analytic) Value = 0.145785\n",
      "    TimeGrid   AssetGrid     % Error\n",
      "        5000           5   218.5412%\n",
      "        5000          10    62.0418%\n",
      "        5000          25     8.8673%\n",
      "        5000          50     2.0894%\n",
      "        5000         100     0.4933%\n",
      "        5000        1000     0.0049%\n",
      "        5000        5000     0.0002%\n",
      "           5        5000     0.7062%\n",
      "          10        5000     0.2007%\n",
      "          25        5000     0.0321%\n",
      "          50        5000     0.0079%\n",
      "         100        5000     0.0019%\n",
      "        1000        5000     0.0002%\n",
      "        5000        5000     0.0002%\n"
     ]
    }
   ],
   "source": [
    "print(\"True (Analytic) Value = {:.6f}\".format(trueValue))\n",
    "print(\"{:>12}{:>12}{:>12}\".format(\"TimeGrid\", \"AssetGrid\", \"% Error\"))\n",
    "for T, A, E in zip([maxG for i in Grids], Grids, uErrors):\n",
    "    print(\"{:12}{:12}{:12.4%}\".format(T, A, E))\n",
    "for T, A, E in zip(Grids, [maxG for i in Grids], tErrors):\n",
    "    print(\"{:12}{:12}{:12.4%}\".format(T, A, E))"
   ]
  },
  {
   "cell_type": "markdown",
   "metadata": {},
   "source": [
    "# Plot pricing errors of finite difference method for different grid sizes"
   ]
  },
  {
   "cell_type": "code",
   "execution_count": 5,
   "metadata": {
    "collapsed": false
   },
   "outputs": [
    {
     "data": {
      "image/png": "[encoded data removed]",
      "text/plain": [
       "<matplotlib.figure.Figure at 0x7fc90c257470>"
      ]
     },
     "metadata": {},
     "output_type": "display_data"
    }
   ],
   "source": [
    "%matplotlib inline\n",
    "plt.loglog(Grids, uErrors, 'r-', Grids, tErrors, 'b--')\n",
    "plt.xlabel('No of Grid Points (Log Scale)')\n",
    "plt.ylabel('Relative Error (Log Scale)')\n",
    "plt.legend(['Asset Grid Points', 'Time Grid Points'])\n",
    "plt.title('Increasing Asset or Time Grid Keeping the Other Grid at ' + str(maxG))\n",
    "plt.show()"
   ]
  }
 ],
 "metadata": {
  "kernelspec": {
   "display_name": "Python 3",
   "language": "python",
   "name": "python3"
  },
  "language_info": {
   "codemirror_mode": {
    "name": "ipython",
    "version": 3
   },
   "file_extension": ".py",
   "mimetype": "text/x-python",
   "name": "python",
   "nbconvert_exporter": "python",
   "pygments_lexer": "ipython3",
   "version": "3.4.3"
  }
 },
 "nbformat": 4,
 "nbformat_minor": 0
}
